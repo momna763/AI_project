{
  "nbformat": 4,
  "nbformat_minor": 0,
  "metadata": {
    "colab": {
      "provenance": [],
      "authorship_tag": "ABX9TyM/tDRZ0Y4kQFUfHQnB8NX+",
      "include_colab_link": true
    },
    "kernelspec": {
      "name": "python3",
      "display_name": "Python 3"
    },
    "language_info": {
      "name": "python"
    }
  },
  "cells": [
    {
      "cell_type": "markdown",
      "metadata": {
        "id": "view-in-github",
        "colab_type": "text"
      },
      "source": [
        "<a href=\"https://colab.research.google.com/github/momna763/AI_project/blob/main/P%26DC.ipynb\" target=\"_parent\"><img src=\"https://colab.research.google.com/assets/colab-badge.svg\" alt=\"Open In Colab\"/></a>"
      ]
    },
    {
      "cell_type": "code",
      "execution_count": 6,
      "metadata": {
        "colab": {
          "base_uri": "https://localhost:8080/"
        },
        "id": "htbuJ27WHERB",
        "outputId": "c40538c9-5a72-45cc-ff94-3223cb162297"
      },
      "outputs": [
        {
          "output_type": "stream",
          "name": "stdout",
          "text": [
            "Original File Size: 548.78 KB\n",
            "Compressed File Size: 548.78 KB\n",
            "\n",
            "--- Serial Execution Results ---\n",
            "Image Path: /content/source.jpeg\n",
            "Compressed Image Path: /content/source.jpeg\n",
            "Serial Execution Time: 0.0415 seconds\n",
            "Compression Ratio (Serial): 1.00\n",
            "Compression Speed (Serial): 13231.38 KB/sec\n",
            "----------------------------------------\n"
          ]
        }
      ],
      "source": [
        "import time\n",
        "from PIL import Image\n",
        "import os\n",
        "\n",
        "# Function for serial JPEG compression\n",
        "def compress_serial(image_path):\n",
        "    img = Image.open(image_path)\n",
        "    img = img.convert('RGB')\n",
        "    compressed_path = image_path.replace('.jpg', '_compressed_serial.jpg')\n",
        "    img.save(compressed_path, 'JPEG', quality=85)\n",
        "    return compressed_path\n",
        "\n",
        "# Function to print file sizes\n",
        "def print_file_sizes(original_path, compressed_path):\n",
        "    original_size = os.path.getsize(original_path) / 1024  # size in KB\n",
        "    compressed_size = os.path.getsize(compressed_path) / 1024  # size in KB\n",
        "    print(f\"Original File Size: {original_size:.2f} KB\")\n",
        "    print(f\"Compressed File Size: {compressed_size:.2f} KB\")\n",
        "    return original_size, compressed_size\n",
        "\n",
        "# Single image path\n",
        "image_path = '/content/source.jpeg'\n",
        "\n",
        "# Serial execution\n",
        "start_time = time.time()\n",
        "compressed_path = compress_serial(image_path)\n",
        "end_time = time.time()\n",
        "\n",
        "# File size comparison\n",
        "original_size, compressed_size = print_file_sizes(image_path, compressed_path)\n",
        "\n",
        "# Detailed output\n",
        "print(\"\\n--- Serial Execution Results ---\")\n",
        "print(f\"Image Path: {image_path}\")\n",
        "print(f\"Compressed Image Path: {compressed_path}\")\n",
        "print(f\"Serial Execution Time: {end_time - start_time:.4f} seconds\")\n",
        "print(f\"Compression Ratio (Serial): {compressed_size / original_size:.2f}\")\n",
        "print(f\"Compression Speed (Serial): {original_size / (end_time - start_time):.2f} KB/sec\")\n",
        "print(\"-\" * 40)\n"
      ]
    },
    {
      "cell_type": "code",
      "source": [
        "import time\n",
        "from concurrent.futures import ThreadPoolExecutor\n",
        "from PIL import Image\n",
        "import os\n",
        "\n",
        "# Function for parallel JPEG compression\n",
        "def compress_parallel(image_path):\n",
        "    img = Image.open(image_path)\n",
        "    img = img.convert('RGB')\n",
        "    compressed_path = image_path.replace('.jpg', '_compressed_parallel.jpg')\n",
        "    img.save(compressed_path, 'JPEG', quality=85)\n",
        "    return compressed_path\n",
        "\n",
        "# Function to print file sizes\n",
        "def print_file_sizes(original_path, compressed_path):\n",
        "    original_size = os.path.getsize(original_path) / 1024  # size in KB\n",
        "    compressed_size = os.path.getsize(compressed_path) / 1024  # size in KB\n",
        "    print(f\"Original File Size: {original_size:.2f} KB\")\n",
        "    print(f\"Compressed File Size: {compressed_size:.2f} KB\")\n",
        "    return original_size, compressed_size\n",
        "\n",
        "# Single image path\n",
        "image_path = '/content/source.jpeg'\n",
        "\n",
        "# Parallel execution\n",
        "start_time = time.time()\n",
        "with ThreadPoolExecutor() as executor:\n",
        "    future = executor.submit(compress_parallel, image_path)\n",
        "    compressed_path = future.result()  # Wait for the result\n",
        "end_time = time.time()\n",
        "\n",
        "# File size comparison\n",
        "original_size, compressed_size = print_file_sizes(image_path, compressed_path)\n",
        "\n",
        "# Detailed output\n",
        "print(\"\\n--- Parallel Execution Results ---\")\n",
        "print(f\"Image Path: {image_path}\")\n",
        "print(f\"Compressed Image Path: {compressed_path}\")\n",
        "print(f\"Parallel Execution Time: {end_time - start_time:.4f} seconds\")\n",
        "print(f\"Compression Ratio (Parallel): {compressed_size / original_size:.2f}\")\n",
        "print(f\"Compression Speed (Parallel): {original_size / (end_time - start_time):.2f} KB/sec\")\n",
        "print(\"-\" * 40)\n"
      ],
      "metadata": {
        "colab": {
          "base_uri": "https://localhost:8080/"
        },
        "id": "zDjUzx1gHY3o",
        "outputId": "79ad59e5-4c60-401c-c8a6-ef258ef92e41"
      },
      "execution_count": 7,
      "outputs": [
        {
          "output_type": "stream",
          "name": "stdout",
          "text": [
            "Original File Size: 548.83 KB\n",
            "Compressed File Size: 548.83 KB\n",
            "\n",
            "--- Parallel Execution Results ---\n",
            "Image Path: /content/source.jpeg\n",
            "Compressed Image Path: /content/source.jpeg\n",
            "Parallel Execution Time: 0.0450 seconds\n",
            "Compression Ratio (Parallel): 1.00\n",
            "Compression Speed (Parallel): 12202.41 KB/sec\n",
            "----------------------------------------\n"
          ]
        }
      ]
    },
    {
      "cell_type": "code",
      "source": [],
      "metadata": {
        "id": "DhhEQwUyHbMP"
      },
      "execution_count": null,
      "outputs": []
    }
  ]
}